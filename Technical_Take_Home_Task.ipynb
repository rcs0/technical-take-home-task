{
  "nbformat": 4,
  "nbformat_minor": 0,
  "metadata": {
    "colab": {
      "name": "Technical Take Home Task.ipynb",
      "provenance": [],
      "collapsed_sections": [
        "Nb7Lu7MQ1Kt5",
        "iJnPENEUx5Es",
        "2RHPMxxex_AK",
        "iesD130px_tO"
      ]
    },
    "kernelspec": {
      "name": "python3",
      "display_name": "Python 3"
    },
    "language_info": {
      "name": "python"
    }
  },
  "cells": [
    {
      "cell_type": "markdown",
      "source": [
        "###Setup"
      ],
      "metadata": {
        "id": "Nb7Lu7MQ1Kt5"
      }
    },
    {
      "cell_type": "code",
      "source": [
        "# Connecting to Google Drive to access the .log file\n",
        "from google.colab import drive\n",
        "drive.mount('/content/drive', force_remount=False)"
      ],
      "metadata": {
        "colab": {
          "base_uri": "https://localhost:8080/"
        },
        "id": "swuu_2MGPAdb",
        "outputId": "b9d1383b-2d2b-4e42-8176-623ee6389456"
      },
      "execution_count": 1,
      "outputs": [
        {
          "output_type": "stream",
          "name": "stdout",
          "text": [
            "Drive already mounted at /content/drive; to attempt to forcibly remount, call drive.mount(\"/content/drive\", force_remount=True).\n"
          ]
        }
      ]
    },
    {
      "cell_type": "code",
      "source": [
        "import pandas as pd\n",
        "\n",
        "# Set file path\n",
        "dir = 'drive/MyDrive/Mantel Group'\n",
        "\n",
        "# Instantize dataframe\n",
        "data = pd.DataFrame(columns=['IP', 'URL'])"
      ],
      "metadata": {
        "id": "j6yvg9wXO86R"
      },
      "execution_count": 2,
      "outputs": []
    },
    {
      "cell_type": "code",
      "source": [
        "# Read in .log file and generate a list of the HTTP requests\n",
        "file = open(f'{dir}/programming-task-example-data.log')\n",
        "lines = file.readlines()\n",
        "\n",
        "# Instantize columns\n",
        "IP = []\n",
        "URL = []\n",
        "\n",
        "# For each HTTP request, store the IP address and URL\n",
        "for line in lines:\n",
        "  IP.append(line.split()[0])\n",
        "  URL.append(line.split()[6])"
      ],
      "metadata": {
        "id": "5OIFgW1pjr5d"
      },
      "execution_count": 3,
      "outputs": []
    },
    {
      "cell_type": "code",
      "source": [
        "# Assign our columns to the dataframe\n",
        "data.IP = IP\n",
        "data.URL = URL\n",
        "\n",
        "# View dataframe\n",
        "data"
      ],
      "metadata": {
        "colab": {
          "base_uri": "https://localhost:8080/",
          "height": 770
        },
        "id": "zC89oVLymrMf",
        "outputId": "00e2cce9-6caa-4da7-a71e-19ee735e6d31"
      },
      "execution_count": 4,
      "outputs": [
        {
          "output_type": "execute_result",
          "data": {
            "text/plain": [
              "               IP                                         URL\n",
              "0   177.71.128.21                        /intranet-analytics/\n",
              "1   168.41.191.40                     http://example.net/faq/\n",
              "2   168.41.191.41                  /this/page/does/not/exist/\n",
              "3   168.41.191.40      http://example.net/blog/category/meta/\n",
              "4   177.71.128.21  /blog/2018/08/survey-your-opinion-matters/\n",
              "5    168.41.191.9                         /docs/manage-users/\n",
              "6   168.41.191.40                   /blog/category/community/\n",
              "7   168.41.191.34                                       /faq/\n",
              "8   177.71.128.21                      /docs/manage-websites/\n",
              "9    50.112.00.28                        /faq/how-to-install/\n",
              "10   50.112.00.11                                   /asset.js\n",
              "11    72.44.32.11                                /to-an-error\n",
              "12    72.44.32.10                                           /\n",
              "13   168.41.191.9                                      /docs/\n",
              "14  168.41.191.43                          /moved-permanently\n",
              "15  168.41.191.43                              /temp-redirect\n",
              "16  168.41.191.40                      /docs/manage-websites/\n",
              "17  168.41.191.34                                /faq/how-to/\n",
              "18    72.44.32.10                              /translations/\n",
              "19   79.125.00.21                                /newsletter/\n",
              "20   50.112.00.11                                   /hosting/\n",
              "21    72.44.32.10                          /download/counter/\n",
              "22   50.112.00.11                                  /asset.css"
            ],
            "text/html": [
              "\n",
              "  <div id=\"df-4c8ace1d-40dd-4811-8e9d-ccb6196303b9\">\n",
              "    <div class=\"colab-df-container\">\n",
              "      <div>\n",
              "<style scoped>\n",
              "    .dataframe tbody tr th:only-of-type {\n",
              "        vertical-align: middle;\n",
              "    }\n",
              "\n",
              "    .dataframe tbody tr th {\n",
              "        vertical-align: top;\n",
              "    }\n",
              "\n",
              "    .dataframe thead th {\n",
              "        text-align: right;\n",
              "    }\n",
              "</style>\n",
              "<table border=\"1\" class=\"dataframe\">\n",
              "  <thead>\n",
              "    <tr style=\"text-align: right;\">\n",
              "      <th></th>\n",
              "      <th>IP</th>\n",
              "      <th>URL</th>\n",
              "    </tr>\n",
              "  </thead>\n",
              "  <tbody>\n",
              "    <tr>\n",
              "      <th>0</th>\n",
              "      <td>177.71.128.21</td>\n",
              "      <td>/intranet-analytics/</td>\n",
              "    </tr>\n",
              "    <tr>\n",
              "      <th>1</th>\n",
              "      <td>168.41.191.40</td>\n",
              "      <td>http://example.net/faq/</td>\n",
              "    </tr>\n",
              "    <tr>\n",
              "      <th>2</th>\n",
              "      <td>168.41.191.41</td>\n",
              "      <td>/this/page/does/not/exist/</td>\n",
              "    </tr>\n",
              "    <tr>\n",
              "      <th>3</th>\n",
              "      <td>168.41.191.40</td>\n",
              "      <td>http://example.net/blog/category/meta/</td>\n",
              "    </tr>\n",
              "    <tr>\n",
              "      <th>4</th>\n",
              "      <td>177.71.128.21</td>\n",
              "      <td>/blog/2018/08/survey-your-opinion-matters/</td>\n",
              "    </tr>\n",
              "    <tr>\n",
              "      <th>5</th>\n",
              "      <td>168.41.191.9</td>\n",
              "      <td>/docs/manage-users/</td>\n",
              "    </tr>\n",
              "    <tr>\n",
              "      <th>6</th>\n",
              "      <td>168.41.191.40</td>\n",
              "      <td>/blog/category/community/</td>\n",
              "    </tr>\n",
              "    <tr>\n",
              "      <th>7</th>\n",
              "      <td>168.41.191.34</td>\n",
              "      <td>/faq/</td>\n",
              "    </tr>\n",
              "    <tr>\n",
              "      <th>8</th>\n",
              "      <td>177.71.128.21</td>\n",
              "      <td>/docs/manage-websites/</td>\n",
              "    </tr>\n",
              "    <tr>\n",
              "      <th>9</th>\n",
              "      <td>50.112.00.28</td>\n",
              "      <td>/faq/how-to-install/</td>\n",
              "    </tr>\n",
              "    <tr>\n",
              "      <th>10</th>\n",
              "      <td>50.112.00.11</td>\n",
              "      <td>/asset.js</td>\n",
              "    </tr>\n",
              "    <tr>\n",
              "      <th>11</th>\n",
              "      <td>72.44.32.11</td>\n",
              "      <td>/to-an-error</td>\n",
              "    </tr>\n",
              "    <tr>\n",
              "      <th>12</th>\n",
              "      <td>72.44.32.10</td>\n",
              "      <td>/</td>\n",
              "    </tr>\n",
              "    <tr>\n",
              "      <th>13</th>\n",
              "      <td>168.41.191.9</td>\n",
              "      <td>/docs/</td>\n",
              "    </tr>\n",
              "    <tr>\n",
              "      <th>14</th>\n",
              "      <td>168.41.191.43</td>\n",
              "      <td>/moved-permanently</td>\n",
              "    </tr>\n",
              "    <tr>\n",
              "      <th>15</th>\n",
              "      <td>168.41.191.43</td>\n",
              "      <td>/temp-redirect</td>\n",
              "    </tr>\n",
              "    <tr>\n",
              "      <th>16</th>\n",
              "      <td>168.41.191.40</td>\n",
              "      <td>/docs/manage-websites/</td>\n",
              "    </tr>\n",
              "    <tr>\n",
              "      <th>17</th>\n",
              "      <td>168.41.191.34</td>\n",
              "      <td>/faq/how-to/</td>\n",
              "    </tr>\n",
              "    <tr>\n",
              "      <th>18</th>\n",
              "      <td>72.44.32.10</td>\n",
              "      <td>/translations/</td>\n",
              "    </tr>\n",
              "    <tr>\n",
              "      <th>19</th>\n",
              "      <td>79.125.00.21</td>\n",
              "      <td>/newsletter/</td>\n",
              "    </tr>\n",
              "    <tr>\n",
              "      <th>20</th>\n",
              "      <td>50.112.00.11</td>\n",
              "      <td>/hosting/</td>\n",
              "    </tr>\n",
              "    <tr>\n",
              "      <th>21</th>\n",
              "      <td>72.44.32.10</td>\n",
              "      <td>/download/counter/</td>\n",
              "    </tr>\n",
              "    <tr>\n",
              "      <th>22</th>\n",
              "      <td>50.112.00.11</td>\n",
              "      <td>/asset.css</td>\n",
              "    </tr>\n",
              "  </tbody>\n",
              "</table>\n",
              "</div>\n",
              "      <button class=\"colab-df-convert\" onclick=\"convertToInteractive('df-4c8ace1d-40dd-4811-8e9d-ccb6196303b9')\"\n",
              "              title=\"Convert this dataframe to an interactive table.\"\n",
              "              style=\"display:none;\">\n",
              "        \n",
              "  <svg xmlns=\"http://www.w3.org/2000/svg\" height=\"24px\"viewBox=\"0 0 24 24\"\n",
              "       width=\"24px\">\n",
              "    <path d=\"M0 0h24v24H0V0z\" fill=\"none\"/>\n",
              "    <path d=\"M18.56 5.44l.94 2.06.94-2.06 2.06-.94-2.06-.94-.94-2.06-.94 2.06-2.06.94zm-11 1L8.5 8.5l.94-2.06 2.06-.94-2.06-.94L8.5 2.5l-.94 2.06-2.06.94zm10 10l.94 2.06.94-2.06 2.06-.94-2.06-.94-.94-2.06-.94 2.06-2.06.94z\"/><path d=\"M17.41 7.96l-1.37-1.37c-.4-.4-.92-.59-1.43-.59-.52 0-1.04.2-1.43.59L10.3 9.45l-7.72 7.72c-.78.78-.78 2.05 0 2.83L4 21.41c.39.39.9.59 1.41.59.51 0 1.02-.2 1.41-.59l7.78-7.78 2.81-2.81c.8-.78.8-2.07 0-2.86zM5.41 20L4 18.59l7.72-7.72 1.47 1.35L5.41 20z\"/>\n",
              "  </svg>\n",
              "      </button>\n",
              "      \n",
              "  <style>\n",
              "    .colab-df-container {\n",
              "      display:flex;\n",
              "      flex-wrap:wrap;\n",
              "      gap: 12px;\n",
              "    }\n",
              "\n",
              "    .colab-df-convert {\n",
              "      background-color: #E8F0FE;\n",
              "      border: none;\n",
              "      border-radius: 50%;\n",
              "      cursor: pointer;\n",
              "      display: none;\n",
              "      fill: #1967D2;\n",
              "      height: 32px;\n",
              "      padding: 0 0 0 0;\n",
              "      width: 32px;\n",
              "    }\n",
              "\n",
              "    .colab-df-convert:hover {\n",
              "      background-color: #E2EBFA;\n",
              "      box-shadow: 0px 1px 2px rgba(60, 64, 67, 0.3), 0px 1px 3px 1px rgba(60, 64, 67, 0.15);\n",
              "      fill: #174EA6;\n",
              "    }\n",
              "\n",
              "    [theme=dark] .colab-df-convert {\n",
              "      background-color: #3B4455;\n",
              "      fill: #D2E3FC;\n",
              "    }\n",
              "\n",
              "    [theme=dark] .colab-df-convert:hover {\n",
              "      background-color: #434B5C;\n",
              "      box-shadow: 0px 1px 3px 1px rgba(0, 0, 0, 0.15);\n",
              "      filter: drop-shadow(0px 1px 2px rgba(0, 0, 0, 0.3));\n",
              "      fill: #FFFFFF;\n",
              "    }\n",
              "  </style>\n",
              "\n",
              "      <script>\n",
              "        const buttonEl =\n",
              "          document.querySelector('#df-4c8ace1d-40dd-4811-8e9d-ccb6196303b9 button.colab-df-convert');\n",
              "        buttonEl.style.display =\n",
              "          google.colab.kernel.accessAllowed ? 'block' : 'none';\n",
              "\n",
              "        async function convertToInteractive(key) {\n",
              "          const element = document.querySelector('#df-4c8ace1d-40dd-4811-8e9d-ccb6196303b9');\n",
              "          const dataTable =\n",
              "            await google.colab.kernel.invokeFunction('convertToInteractive',\n",
              "                                                     [key], {});\n",
              "          if (!dataTable) return;\n",
              "\n",
              "          const docLinkHtml = 'Like what you see? Visit the ' +\n",
              "            '<a target=\"_blank\" href=https://colab.research.google.com/notebooks/data_table.ipynb>data table notebook</a>'\n",
              "            + ' to learn more about interactive tables.';\n",
              "          element.innerHTML = '';\n",
              "          dataTable['output_type'] = 'display_data';\n",
              "          await google.colab.output.renderOutput(dataTable, element);\n",
              "          const docLink = document.createElement('div');\n",
              "          docLink.innerHTML = docLinkHtml;\n",
              "          element.appendChild(docLink);\n",
              "        }\n",
              "      </script>\n",
              "    </div>\n",
              "  </div>\n",
              "  "
            ]
          },
          "metadata": {},
          "execution_count": 4
        }
      ]
    },
    {
      "cell_type": "markdown",
      "source": [
        "###The Number of Unique IP Addresses"
      ],
      "metadata": {
        "id": "iJnPENEUx5Es"
      }
    },
    {
      "cell_type": "code",
      "source": [
        "print(f'There are {data.IP.unique().size} unique IP addresses.')"
      ],
      "metadata": {
        "colab": {
          "base_uri": "https://localhost:8080/"
        },
        "id": "5-OJIgpZnYgU",
        "outputId": "bf139fbc-6a2d-4f95-ee57-28b7a7763be0"
      },
      "execution_count": 5,
      "outputs": [
        {
          "output_type": "stream",
          "name": "stdout",
          "text": [
            "There are 11 unique IP addresses.\n"
          ]
        }
      ]
    },
    {
      "cell_type": "markdown",
      "source": [
        "###The Top 3 Most Visited URLs"
      ],
      "metadata": {
        "id": "2RHPMxxex_AK"
      }
    },
    {
      "cell_type": "code",
      "source": [
        "# Instantize list to store URL pages in\n",
        "keywords = []\n",
        "\n",
        "# For each URL, separate the page names (e.g. /docs/manage-users/ becomes ['docs', 'managed-users'])\n",
        "for url in data.URL:\n",
        "  for keyword in url.split('/'):\n",
        "    keywords.append(keyword)\n",
        "\n",
        "# Generate dataframe of keywords list\n",
        "url_data = pd.DataFrame(keywords, columns=['Keywords'])\n",
        "\n",
        "# View the top 3 most frequent pages in the URLs\n",
        "url_data.Keywords.value_counts()[1:][0:3]"
      ],
      "metadata": {
        "colab": {
          "base_uri": "https://localhost:8080/"
        },
        "id": "MlITQ_WwndIT",
        "outputId": "5037fcab-7ee3-4c73-c848-13f18ab0684f"
      },
      "execution_count": 6,
      "outputs": [
        {
          "output_type": "execute_result",
          "data": {
            "text/plain": [
              "faq     4\n",
              "docs    4\n",
              "blog    3\n",
              "Name: Keywords, dtype: int64"
            ]
          },
          "metadata": {},
          "execution_count": 6
        }
      ]
    },
    {
      "cell_type": "code",
      "source": [
        "print('The top 3 most visited URLs are:')\n",
        "\n",
        "url_count = url_data.Keywords.value_counts()[1:]\n",
        "\n",
        "for i in range(3):\n",
        "  print(f'{i+1}. http://example.net/{url_count.index[i]}/ , occurring {url_count[i]} times.')"
      ],
      "metadata": {
        "colab": {
          "base_uri": "https://localhost:8080/"
        },
        "id": "F_WWf3E52DBv",
        "outputId": "512eacfb-c011-4a8c-c04c-080f60ab087c"
      },
      "execution_count": 7,
      "outputs": [
        {
          "output_type": "stream",
          "name": "stdout",
          "text": [
            "The top 3 most visited URLs are:\n",
            "1. http://example.net/faq/ , occurring 4 times.\n",
            "2. http://example.net/docs/ , occurring 4 times.\n",
            "3. http://example.net/blog/ , occurring 3 times.\n"
          ]
        }
      ]
    },
    {
      "cell_type": "markdown",
      "source": [
        "###The Top 3 Most Active IP Addresses"
      ],
      "metadata": {
        "id": "iesD130px_tO"
      }
    },
    {
      "cell_type": "code",
      "source": [
        "# View the top 3 most frequent IP addressses\n",
        "data.IP.value_counts()[0:3]"
      ],
      "metadata": {
        "colab": {
          "base_uri": "https://localhost:8080/"
        },
        "id": "gQx1PQ4h8-H-",
        "outputId": "de7f8844-9863-49a1-c929-82a17bdea90d"
      },
      "execution_count": 8,
      "outputs": [
        {
          "output_type": "execute_result",
          "data": {
            "text/plain": [
              "168.41.191.40    4\n",
              "177.71.128.21    3\n",
              "50.112.00.11     3\n",
              "Name: IP, dtype: int64"
            ]
          },
          "metadata": {},
          "execution_count": 8
        }
      ]
    },
    {
      "cell_type": "code",
      "source": [
        "print('The top 3 most active IP addresses are:')\n",
        "for i in range(3):\n",
        "  print(f'{i+1}. {data.IP.value_counts().index[i]}, occurring {data.IP.value_counts()[i]} times.')"
      ],
      "metadata": {
        "colab": {
          "base_uri": "https://localhost:8080/"
        },
        "id": "MwkD0Nyowt_L",
        "outputId": "d61146c3-4d9c-4a81-d887-41323009d7ea"
      },
      "execution_count": 9,
      "outputs": [
        {
          "output_type": "stream",
          "name": "stdout",
          "text": [
            "The top 3 most active IP addresses are:\n",
            "1. 168.41.191.40, occurring 4 times.\n",
            "2. 177.71.128.21, occurring 3 times.\n",
            "3. 50.112.00.11, occurring 3 times.\n"
          ]
        }
      ]
    }
  ]
}